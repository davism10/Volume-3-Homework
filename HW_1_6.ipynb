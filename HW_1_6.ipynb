{
  "cells": [
    {
      "cell_type": "markdown",
      "metadata": {
        "id": "GgX0w0tIuWNz"
      },
      "source": [
        "# HW 1.6 Coding Portion\n",
        "\n",
        "    Name\n",
        "    Date"
      ]
    },
    {
      "cell_type": "markdown",
      "metadata": {
        "id": "TAB4z1hNuzHu"
      },
      "source": [
        "### Exercise 1.28\n",
        "\n",
        "Consider the following game: Two fair, six-sided dice are rolled. If the sum\n",
        "is 7, then the game ends and you win nothing. If the sum is not 7, then you\n",
        "have the option of either stopping the game and receiving an amount equal\n",
        "to the sum of the two dice or starting over again. Let $i$ be a number chosen by you such that if you roll at least $i$, you will decide to stop the game.\n",
        "\n",
        "(i) Write a computer program that simulates many repeated trials of the\n",
        "game and computes the average return for each value of $i \\in \\{2, 3, \\dots , 12\\}$. Which value of $i$ maximizes the expected return?\n"
      ]
    },
    {
      "cell_type": "code",
      "execution_count": 50,
      "metadata": {
        "id": "npQ7QL9nuO5S"
      },
      "outputs": [],
      "source": [
        "import numpy as np\n",
        "\n",
        "# simulate many repeated trials of the game\n",
        "\n",
        "\n",
        "# calculate average return value for i in range(2, 13)\n",
        "\n",
        "\n",
        "# print which value of i maximizes the expected return (or put in a markdown cell)"
      ]
    },
    {
      "cell_type": "markdown",
      "metadata": {
        "id": "g9clv4oQwnen"
      },
      "source": [
        "\n",
        "Please submit parts (ii) and (iii) to gradescope in a pdf."
      ]
    }
  ],
  "metadata": {
    "colab": {
      "provenance": []
    },
    "kernelspec": {
      "display_name": "Python 3",
      "name": "python3"
    },
    "language_info": {
      "name": "python"
    }
  },
  "nbformat": 4,
  "nbformat_minor": 0
}
