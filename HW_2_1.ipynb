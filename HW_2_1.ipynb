{
 "nbformat": 4,
 "nbformat_minor": 0,
 "metadata": {
  "colab": {
   "provenance": []
  },
  "kernelspec": {
   "name": "python3",
   "display_name": "Python 3"
  },
  "language_info": {
   "name": "python"
  }
 },
 "cells": [
  {
   "cell_type": "markdown",
   "source": [
    "# HW 2.1 Coding Portion\n",
    "\n",
    "    Name\n",
    "    Date"
   ],
   "metadata": {
    "id": "GgX0w0tIuWNz"
   }
  },
  {
   "cell_type": "markdown",
   "source": [
    "### Exercise 2.3\n",
    "\n",
    "Code up Shannon’s cumulative probability method (or alternatively you may\n",
    "code up Huffman encoding). Use your code to check the encodings in the\n",
    "previous exercise."
   ],
   "metadata": {
    "id": "TAB4z1hNuzHu"
   }
  },
  {
   "cell_type": "code",
   "execution_count": 50,
   "metadata": {
    "id": "npQ7QL9nuO5S"
   },
   "outputs": [],
   "source": [
    "import numpy as np\n",
    "\n",
    "# code up Shannon's cumulative probability method\n",
    "\n",
    "\n",
    "# check the encodings from Exercise 2.2\n",
    "\n",
    "\n",
    "\n",
    "# Print some statement that demonstrates new encodings match the old\n",
    "# I recommend using statements such as assert(new_encoding == old_encoding) to make it clear you are comparing against the previous exercise.\n",
    "\n"
   ]
  }
 ]
}
