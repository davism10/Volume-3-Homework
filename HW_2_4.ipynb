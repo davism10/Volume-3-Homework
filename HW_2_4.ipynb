{
 "nbformat": 4,
 "nbformat_minor": 0,
 "metadata": {
  "colab": {
   "provenance": []
  },
  "kernelspec": {
   "name": "python3",
   "display_name": "Python 3"
  },
  "language_info": {
   "name": "python"
  }
 },
 "cells": [
  {
   "cell_type": "markdown",
   "source": [
    "# HW 2.4 Coding Portion\n",
    "\n",
    "    Name\n",
    "    Date"
   ],
   "metadata": {
    "id": "GgX0w0tIuWNz"
   }
  },
  {
   "metadata": {},
   "cell_type": "code",
   "outputs": [],
   "execution_count": null,
   "source": [
    "import numpy as np\n",
    "from sklearn.tree import DecisionTreeClassifier\n",
    "from sklearn import fetch_openml"
   ]
  },
  {
   "cell_type": "markdown",
   "source": [
    "### Exercise 2.19\n",
    "\n",
    "Use the `DecisionTreeClassifier` from `sklearn.tree` to build a model that\n",
    "classifies the Titanic dataset (from https://www.kaggle.com/c/titanic/\n",
    "data or using `sklearn.fetch_openml(\"titanic\")`)."
   ],
   "metadata": {
    "id": "TAB4z1hNuzHu"
   }
  },
  {
   "metadata": {},
   "cell_type": "markdown",
   "source": [
    "(i) Visualize the tree as follows:\n",
    "    \n",
    "    (a) Use `sklearn.tree.export_graphviz` (remember to print the output) to get the graph in text form.\n",
    "    \n",
    "    (b) Convert the text to graph with webgraphviz.com.\n",
    "\n",
    "Alternatively, you can install and use graphviz on your machine with `conda install python-graphviz` or `pip install graphviz`, but some students have had trouble installing graphviz on their machines.\n",
    "\n",
    "*Hint: You will need to set a fairly small max depth like 4 or 5 in order to create the visual.*\n",
    "\n",
    "Turn in a printout (screenshot) of your visualization, and identify any leaves that look like overfitting."
   ]
  },
  {
   "metadata": {},
   "cell_type": "code",
   "outputs": [],
   "execution_count": null,
   "source": [
    "# (a) Use sklearn.tree.export_graphviz (remember to print the output) to get the graph in text form\n",
    "\n",
    "\n",
    "\n",
    "# graphviz option for (b) use graphviz to visualize your tree \n"
   ]
  },
  {
   "metadata": {},
   "cell_type": "markdown",
   "source": "*webgraphviz option for (b) put image here using `![title](path/to/image)`. Make sure to push the image and that the path to the image is correct.*"
  },
  {
   "metadata": {},
   "cell_type": "markdown",
   "source": "*Discuss leaves that look like overfitting.*"
  },
  {
   "metadata": {},
   "cell_type": "markdown",
   "source": "(ii) Changing hyperparameters `max_depth` and `min_samples_leaf` and `max_leaf_nodes`, changes both the shape of the resulting tree and the degree to which the tree is overfit. Try a variety of these parameters and select the combination of them that you believe gives the best trade-off between the ability to correctly classify the dataset and avoid overfitting. Visualize your tree as above and turn in a printout of your visualization."
  },
  {
   "metadata": {},
   "cell_type": "code",
   "outputs": [],
   "execution_count": null,
   "source": [
    "# Experiment with hyperparameters\n",
    "\n",
    "\n",
    "\n",
    "# Visualize as above\n"
   ]
  }
 ]
}
