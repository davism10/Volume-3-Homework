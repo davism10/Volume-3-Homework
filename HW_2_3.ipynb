{
 "nbformat": 4,
 "nbformat_minor": 0,
 "metadata": {
  "colab": {
   "provenance": []
  },
  "kernelspec": {
   "name": "python3",
   "display_name": "Python 3"
  },
  "language_info": {
   "name": "python"
  }
 },
 "cells": [
  {
   "cell_type": "markdown",
   "source": [
    "# HW 2.3 Coding Portion\n",
    "\n",
    "    Name\n",
    "    Date"
   ],
   "metadata": {
    "id": "GgX0w0tIuWNz"
   }
  },
  {
   "metadata": {},
   "cell_type": "code",
   "outputs": [],
   "execution_count": null,
   "source": "import numpy as np"
  },
  {
   "cell_type": "markdown",
   "source": [
    "### Exercise 2.12\n",
    "\n",
    "Consider the case of a standard-looking six-sided die with the uniform distribution as its assumed prior. Suppose now that we are told that the average $\\mathbb{E}[X]$ of the die is 5, which is not compatible with the uniform distribution. Using the universal principle of inference, find the distribution that best incorporates this new knowledge. \n",
    "\n",
    "*Hint: To solve a messy equation for a single parameter $\\lambda$, you may want to use a standard numerical root-finding tool.*\n",
    "\n",
    "*Hint: You may need to solve a nonlinear equation numerically (and approximately with floating point arithmetic).*"
   ],
   "metadata": {
    "id": "TAB4z1hNuzHu"
   }
  },
  {
   "metadata": {},
   "cell_type": "markdown",
   "source": "*Any analytical work you do can be placed here*"
  },
  {
   "metadata": {},
   "cell_type": "code",
   "outputs": [],
   "execution_count": null,
   "source": [
    "# Used a root-finder to solve for lambda\n",
    "\n"
   ]
  },
  {
   "metadata": {},
   "cell_type": "markdown",
   "source": "*Describe the distribution, given the value of $\\lambda$ found above.*"
  },
  {
   "metadata": {},
   "cell_type": "markdown",
   "source": [
    "### Exercise 2.13\n",
    "\n",
    "Consider the case of a standard-looking six-sided die with the uniform distribution as its assumed prior. Suppose now that we are told that the second moment $\\mathbb{E}[X^2]$ of the die is 15, which is not compatible with the uniform distribution. Using the universal principle of inference, find the distribution that best incorporates the knowledge about the second moment. \n",
    "\n",
    "*Hint: You may need to solve a nonlinear equation numerically (and approximately with\n",
    "floating point arithmetic).$"
   ]
  },
  {
   "metadata": {},
   "cell_type": "markdown",
   "source": "*Any analytical work you do can be placed here*"
  },
  {
   "metadata": {},
   "cell_type": "code",
   "outputs": [],
   "execution_count": null,
   "source": [
    "# Used a root-finder to solve for lambda\n",
    "\n"
   ]
  },
  {
   "metadata": {},
   "cell_type": "markdown",
   "source": "*Describe the distribution, given the value of $\\lambda$ found above.*"
  }
 ]
}
