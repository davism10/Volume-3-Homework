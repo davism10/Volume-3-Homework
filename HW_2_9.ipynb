{
 "nbformat": 4,
 "nbformat_minor": 0,
 "metadata": {
  "colab": {
   "provenance": []
  },
  "kernelspec": {
   "name": "python3",
   "display_name": "Python 3"
  },
  "language_info": {
   "name": "python"
  }
 },
 "cells": [
  {
   "cell_type": "markdown",
   "source": [
    "# HW 2.9 Coding Portion\n",
    "\n",
    "    Name\n",
    "    Date"
   ],
   "metadata": {
    "id": "GgX0w0tIuWNz"
   }
  },
  {
   "metadata": {},
   "cell_type": "code",
   "outputs": [],
   "execution_count": null,
   "source": "import numpy as np"
  },
  {
   "cell_type": "markdown",
   "source": [
    "### Exercise 2.49\n",
    "\n",
    "Write code to implement the Box-Muller method.\n",
    "\n"
   ],
   "metadata": {
    "id": "TAB4z1hNuzHu"
   }
  },
  {
   "metadata": {},
   "cell_type": "code",
   "outputs": [],
   "execution_count": null,
   "source": [
    "# Implement Box-Muller\n",
    "\n"
   ]
  },
  {
   "metadata": {},
   "cell_type": "code",
   "outputs": [],
   "execution_count": null,
   "source": [
    "# (i) Draw 1000 samples from the standard normal using your code and plot\n",
    "# a normed histogram (divide the height of each bin by the total number\n",
    "# of data points), along with the p.d.f. of the standard normal.\n",
    "\n",
    "\n",
    "\n",
    "\n"
   ]
  },
  {
   "metadata": {},
   "cell_type": "code",
   "outputs": [],
   "execution_count": null,
   "source": [
    "# (ii) Time how long it takes your code to make 1000 draws and compare that\n",
    "# to the time it takes to make 1000 draws using built-in tools from your\n",
    "# favorite numerical or statistical package.\n",
    "\n",
    "\n",
    "\n"
   ]
  },
  {
   "metadata": {},
   "cell_type": "markdown",
   "source": "2.50. Let $X \\sim \\mathcal{N} (0, 1)$ and let $Y = e^X$.\n"
  },
  {
   "metadata": {},
   "cell_type": "code",
   "outputs": [],
   "execution_count": null,
   "source": [
    "# (i) Use Monte Carlo methods to estimate the mean and variance of Y and to plot its p.d.f.\n",
    "\n",
    "\n",
    "\n"
   ]
  },
  {
   "metadata": {},
   "cell_type": "markdown",
   "source": "(ii) Compute the p.d.f. of Y analytically."
  },
  {
   "metadata": {},
   "cell_type": "code",
   "outputs": [],
   "execution_count": null,
   "source": [
    "# Plot the analytical result with the histogram you made earlier. The distribution of Y is called log-normal.\n",
    "\n",
    "\n"
   ]
  }
 ]
}
